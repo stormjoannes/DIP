{
 "cells": [
  {
   "cell_type": "markdown",
   "metadata": {},
   "source": [
    "# language choser algorithm"
   ]
  },
  {
   "cell_type": "markdown",
   "metadata": {},
   "source": [
    "In this file we wil decide if a line is written in english or in dutch."
   ]
  },
  {
   "cell_type": "code",
   "execution_count": 1,
   "metadata": {},
   "outputs": [],
   "source": [
    "import numpy as np"
   ]
  },
  {
   "cell_type": "code",
   "execution_count": 2,
   "metadata": {},
   "outputs": [],
   "source": [
    "input_text = open(\"../data/data_letterfrequenties/test_input.txt\", encoding=\"utf8\")"
   ]
  },
  {
   "cell_type": "code",
   "execution_count": 3,
   "metadata": {},
   "outputs": [],
   "source": [
    "dutch_input_line = \"potlood zijn lekker en heb ik vaak op mijn bureau\"\n",
    "eng_input_line = \"bYcIclEs are very good and taste jummy\"\n",
    "\n",
    "test_input_line = \"knolselderie\""
   ]
  },
  {
   "cell_type": "code",
   "execution_count": 4,
   "metadata": {},
   "outputs": [],
   "source": [
    "characters = 'abcdefghijklmnopqrstuvwxyz '"
   ]
  },
  {
   "cell_type": "code",
   "execution_count": 5,
   "metadata": {},
   "outputs": [],
   "source": [
    "def create_matrix(characters, input_line):\n",
    "    matrix = np.zeros((len(characters) + 1, len(characters) + 1))\n",
    "\n",
    "    for i in range(0, len(input_line) - 1):\n",
    "        letter = input_line[i].lower()\n",
    "        opvolgende_letter = input_line[i + 1].lower()\n",
    "\n",
    "        if letter in characters:\n",
    "            index_letter = characters.index(letter)\n",
    "        else:\n",
    "            index_letter = 27\n",
    "\n",
    "        if opvolgende_letter in characters:\n",
    "            index_opvolgende_letter = characters.index(opvolgende_letter)\n",
    "        else:\n",
    "            index_opvolgende_letter = 27\n",
    "\n",
    "        matrix[index_letter][index_opvolgende_letter] += 1 \n",
    "        \n",
    "    return matrix"
   ]
  },
  {
   "cell_type": "code",
   "execution_count": 6,
   "metadata": {},
   "outputs": [],
   "source": [
    "def convert_to_percentage(characters, input_line):\n",
    "    matrix = create_matrix(characters, input_line)\n",
    "    \n",
    "    total = np.sum(matrix)\n",
    "    for row in range(len(matrix)):\n",
    "        for index in range(len(matrix)):\n",
    "            matrix[row][index] = matrix[row][index] / total\n",
    "    return matrix"
   ]
  },
  {
   "cell_type": "code",
   "execution_count": 7,
   "metadata": {
    "scrolled": false
   },
   "outputs": [],
   "source": [
    "dutch_matrix = convert_to_percentage(characters, dutch_input_line)\n",
    "eng_matrix = convert_to_percentage(characters, eng_input_line)"
   ]
  },
  {
   "cell_type": "code",
   "execution_count": 8,
   "metadata": {},
   "outputs": [],
   "source": [
    "def language_choser(dutch_matrix, eng_matrix, test_matrix):\n",
    "    dutch_loss = 0\n",
    "    eng_loss = 0\n",
    "\n",
    "    for row in range(len(dutch_matrix)):\n",
    "        for index in range(len(dutch_matrix)):\n",
    "            dutch_perc = dutch_matrix[row][index]\n",
    "            eng_perc = eng_matrix[row][index]\n",
    "            test_perc = test_matrix[row][index]\n",
    "            \n",
    "            dutch_loss += abs(dutch_perc - test_perc)\n",
    "            eng_loss += abs(eng_perc - test_perc)\n",
    "            \n",
    "            \n",
    "    return \"dutch\" if dutch_loss < eng_loss else \"english\""
   ]
  },
  {
   "cell_type": "code",
   "execution_count": 9,
   "metadata": {},
   "outputs": [
    {
     "name": "stdout",
     "output_type": "stream",
     "text": [
      "english\n"
     ]
    }
   ],
   "source": [
    "test_matrix = convert_to_percentage(characters, test_input_line)\n",
    "result = language_choser(dutch_matrix, eng_matrix, test_matrix)\n",
    "print(result)"
   ]
  },
  {
   "cell_type": "code",
   "execution_count": 10,
   "metadata": {},
   "outputs": [],
   "source": [
    "def text_scanner(input_text, dutch_matrix, eng_matrix, characters):\n",
    "    dutch_count = 0\n",
    "    eng_count = 0\n",
    "    \n",
    "    for test_input_line in input_text:\n",
    "        test_matrix = convert_to_percentage(characters, test_input_line)\n",
    "        \n",
    "        result = language_choser(dutch_matrix, eng_matrix, test_matrix)\n",
    "        \n",
    "        if result == \"dutch\":\n",
    "            dutch_count += 1\n",
    "        else:\n",
    "            eng_count += 1\n",
    "        \n",
    "    return dutch_count, eng_count"
   ]
  },
  {
   "cell_type": "code",
   "execution_count": 11,
   "metadata": {},
   "outputs": [
    {
     "name": "stdout",
     "output_type": "stream",
     "text": [
      "(87, 105)\n",
      "92.70833333333333\n"
     ]
    },
    {
     "name": "stderr",
     "output_type": "stream",
     "text": [
      "C:\\Users\\storm\\anaconda3\\lib\\site-packages\\ipykernel_launcher.py:7: RuntimeWarning: invalid value encountered in double_scalars\n",
      "  import sys\n"
     ]
    }
   ],
   "source": [
    "result = text_scanner(input_text, dutch_matrix, eng_matrix, characters)\n",
    "print(result)\n",
    "expected_result = (73, 119)\n",
    "accuracy = 100 - (abs(result[1] - expected_result[1]) / sum(expected_result) * 100)\n",
    "print(accuracy)"
   ]
  },
  {
   "cell_type": "code",
   "execution_count": 12,
   "metadata": {},
   "outputs": [],
   "source": [
    "# squish_horizontaal = []\n",
    "# for i in matrix:\n",
    "#     squish_horizontaal.append(sum(i))\n",
    "    \n",
    "# reserve_matrix = []\n",
    "# for i in range(0, 28):\n",
    "#     rij = []\n",
    "#     for j in range(0, 28):\n",
    "#         rij.append(matrix[j][i])\n",
    "#     reserve_matrix.append(rij)\n",
    "    \n",
    "# squish_verticaal = []\n",
    "# for i in matrix:\n",
    "#     squish_verticaal.append(sum(i))\n",
    "\n",
    "# squish = squish_horizontaal + squish_verticaal\n",
    "# print(squish)"
   ]
  },
  {
   "cell_type": "code",
   "execution_count": null,
   "metadata": {},
   "outputs": [],
   "source": []
  }
 ],
 "metadata": {
  "kernelspec": {
   "display_name": "Python 3",
   "language": "python",
   "name": "python3"
  },
  "language_info": {
   "codemirror_mode": {
    "name": "ipython",
    "version": 3
   },
   "file_extension": ".py",
   "mimetype": "text/x-python",
   "name": "python",
   "nbconvert_exporter": "python",
   "pygments_lexer": "ipython3",
   "version": "3.7.6"
  }
 },
 "nbformat": 4,
 "nbformat_minor": 4
}
